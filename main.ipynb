{
 "cells": [
  {
   "cell_type": "code",
   "execution_count": 31,
   "id": "4000cffc-7ef4-49fb-8ee0-1b8fb702fc7e",
   "metadata": {},
   "outputs": [
    {
     "name": "stdin",
     "output_type": "stream",
     "text": [
      "Your name:  jaoidf\n",
      "Pin:  644\n"
     ]
    },
    {
     "name": "stdout",
     "output_type": "stream",
     "text": [
      "\n",
      "Incorrect details! Try again...\n"
     ]
    }
   ],
   "source": [
    "existingusers = {\n",
    "    101:{'name':'Asha Ramesh' ,'gender':'F' ,'account no.':'1234567890123450', 'pin':'4321', 'city': 'Hydrabad', 'Saving': 2500},\n",
    "    102:{'name':'Manoj Kumar','gender':'M','account no.':'9876543210987650', 'pin':'2468', 'city':'Jaipur' , 'Saving': 8000},\n",
    "    103:{'name':'Sneha Raj','gender':'F','account no.':'2222333344445550', 'pin':'1357', 'city':'Bhopal' , 'Saving': 12000},\n",
    "    104:{'name':'Ravi Sharma' ,'gender':'M' ,'account no.':'4444555566667770', 'pin':'8642' , 'city':'Dehradun', 'Saving': 6700},\n",
    "    105:{'name':'Arun Das','gender':'M','account no.':'6666777788889990', 'pin':'2580', 'city':'Kolkata', 'Saving': 900}\n",
    "    }\n",
    "\n",
    "##IMPORTANT::\n",
    "# Why account_no and pin should be strings (not integers)\n",
    "# 🧩 1. Leading zeros matter --\n",
    "# If an account number or PIN starts with a 0, integers will drop those zeros automatically.\n",
    "\n",
    "# 2. They’re identifiers, not quantities --\n",
    "# An account number or PIN isn’t something you’ll add, subtract, or multiply.\n",
    "# They’re IDs, like your Aadhaar number or phone number — which should stay fixed as text.\n",
    "\n",
    "# 3. Avoids integer size issues\n",
    "# Some banks use 14–16 digit account numbers.\n",
    "# Python handles large integers fine, but other systems (like Excel or databases) can round off or distort them if stored as numbers.\n",
    "\n",
    "#---\n",
    "#Menu for banking operations\n",
    "\n",
    "def showmenu():\n",
    "    print('\\nWelcome, enter number for operation')\n",
    "    menu = {1:'Check Balance',2:'Withdraw',3:'Deposite',4:'Transfer'}\n",
    "    for key,value in menu.items():  #to get all key and value pair together we use .items() method\n",
    "        print(f'{key}. {value}')\n",
    "\n",
    "#---\n",
    "##VERIFY/Authenticate user:\n",
    "\n",
    "def authuser(): #No parameters need since we are assigning the entered values via userinput function made above\n",
    "    entername = input('Your name: ')\n",
    "    enterpin = input('Pin: ')\n",
    "    validuser = False\n",
    "\n",
    "    for uid, credential in existingusers.items(): #this ensure the details are compared with right credentials, its important \n",
    "                                                  #to consider key for verification along with its corresponding details\n",
    "        #now to compare credentials of user\n",
    "            if credential['name'] == entername  and credential['pin'] == enterpin :\n",
    "                validuser = True\n",
    "                print(f'Hey {entername}, You are Logged in now...')\n",
    "                showmenu()\n",
    "                break\n",
    "            #else:\n",
    "                #print('Incorrect details! Try again...') ;; this code line will iterate and check for each entry which is not right due to\n",
    "                #privacy and optimization concerns. Right place to write this code is shown below!!\n",
    "    if not validuser:\n",
    "        print('\\nIncorrect details! Try again...')\n",
    "            \n",
    "authuser()  "
   ]
  },
  {
   "cell_type": "code",
   "execution_count": null,
   "id": "269c4dbd-fbcc-4303-a8e4-94367e77828a",
   "metadata": {},
   "outputs": [],
   "source": []
  },
  {
   "cell_type": "code",
   "execution_count": null,
   "id": "7e15c8f7-a3fb-4303-a784-84e35746d819",
   "metadata": {},
   "outputs": [],
   "source": []
  },
  {
   "cell_type": "code",
   "execution_count": null,
   "id": "61d88898-ac4a-4782-8cdf-131bb2c6ec37",
   "metadata": {},
   "outputs": [],
   "source": []
  },
  {
   "cell_type": "code",
   "execution_count": null,
   "id": "5c0729ae-a5ae-4f43-ac28-bfd1b94d10d8",
   "metadata": {},
   "outputs": [],
   "source": []
  },
  {
   "cell_type": "code",
   "execution_count": null,
   "id": "08e06928-a088-4243-bc5e-b009621a7b9f",
   "metadata": {},
   "outputs": [],
   "source": []
  },
  {
   "cell_type": "code",
   "execution_count": null,
   "id": "6f79dc3a-4331-4760-8298-f91539cf6ba6",
   "metadata": {},
   "outputs": [],
   "source": []
  },
  {
   "cell_type": "code",
   "execution_count": null,
   "id": "27bb6789-3f9e-40c8-ae0d-43c72814e6d1",
   "metadata": {},
   "outputs": [],
   "source": []
  },
  {
   "cell_type": "code",
   "execution_count": null,
   "id": "13a13fb2-2d8d-4e52-bbfc-9ff31c9560b9",
   "metadata": {},
   "outputs": [],
   "source": []
  },
  {
   "cell_type": "code",
   "execution_count": null,
   "id": "0c6f6b6f-a927-4219-80a0-e7df39817b7b",
   "metadata": {},
   "outputs": [],
   "source": []
  },
  {
   "cell_type": "code",
   "execution_count": null,
   "id": "c3a1a553-d895-400c-9918-8d5c6663bb15",
   "metadata": {},
   "outputs": [],
   "source": []
  },
  {
   "cell_type": "code",
   "execution_count": null,
   "id": "f14fabb3-1bd0-49eb-afb7-da9008c0028e",
   "metadata": {},
   "outputs": [],
   "source": []
  },
  {
   "cell_type": "code",
   "execution_count": null,
   "id": "58c99cba-5a08-4fde-8264-518dde98cfed",
   "metadata": {},
   "outputs": [],
   "source": []
  }
 ],
 "metadata": {
  "kernelspec": {
   "display_name": "Python 3 (ipykernel)",
   "language": "python",
   "name": "python3"
  },
  "language_info": {
   "codemirror_mode": {
    "name": "ipython",
    "version": 3
   },
   "file_extension": ".py",
   "mimetype": "text/x-python",
   "name": "python",
   "nbconvert_exporter": "python",
   "pygments_lexer": "ipython3",
   "version": "3.13.5"
  }
 },
 "nbformat": 4,
 "nbformat_minor": 5
}
