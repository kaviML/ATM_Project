{
 "cells": [
  {
   "cell_type": "code",
   "execution_count": 1,
   "id": "4000cffc-7ef4-49fb-8ee0-1b8fb702fc7e",
   "metadata": {},
   "outputs": [
    {
     "name": "stdout",
     "output_type": "stream",
     "text": [
      "\t\t*** Welcome to your Bank! ***\n",
      "\n"
     ]
    },
    {
     "name": "stdin",
     "output_type": "stream",
     "text": [
      "Your name:  Manoj Kumar\n",
      "Pin:  2468\n"
     ]
    },
    {
     "name": "stdout",
     "output_type": "stream",
     "text": [
      "Hey Manoj Kumar, You are Logged in now...\n"
     ]
    },
    {
     "name": "stdin",
     "output_type": "stream",
     "text": [
      "\n",
      " Continue Banking? \n",
      "Enter Y/N:  y\n"
     ]
    },
    {
     "name": "stdout",
     "output_type": "stream",
     "text": [
      " ****** \n",
      " Welcome, Select Operation from below: \n",
      "1. Check Balance\n",
      "2. Withdraw\n",
      "3. Deposite\n",
      "4. Transfer\n",
      "5. Check Details\n",
      "6. Exit\n"
     ]
    },
    {
     "name": "stdin",
     "output_type": "stream",
     "text": [
      "\n",
      " Your choice:  6\n"
     ]
    },
    {
     "ename": "SystemExit",
     "evalue": "",
     "output_type": "error",
     "traceback": [
      "An exception has occurred, use %tb to see the full traceback.\n",
      "\u001b[1;31mSystemExit\u001b[0m\n"
     ]
    },
    {
     "name": "stderr",
     "output_type": "stream",
     "text": [
      "C:\\ProgramData\\anaconda3\\Lib\\site-packages\\IPython\\core\\interactiveshell.py:3585: UserWarning: To exit: use 'exit', 'quit', or Ctrl-D.\n",
      "  warn(\"To exit: use 'exit', 'quit', or Ctrl-D.\", stacklevel=1)\n"
     ]
    }
   ],
   "source": [
    "import os\n",
    "from data.userdata import existingusers\n",
    "from modules.getchoicefrommenu import *\n",
    "from modules.authuser import authuser\n",
    "from modules.operations import *\n",
    "\n",
    "def main():\n",
    "    print('\\t\\t*** Welcome to your Bank! ***\\n')\n",
    "    uid = authuser()\n",
    "    \n",
    "    if not uid:\n",
    "            return\n",
    "        \n",
    "    while True:    \n",
    "        continuebanking = input(\"\\n Continue Banking? \\nEnter Y/N: \")\n",
    "        continuebanking = continuebanking.strip().replace(' ','')\n",
    "        if continuebanking.lower() == 'y':\n",
    "            option = showmenu()\n",
    "            operation(uid, option)\n",
    "            if option == 6:\n",
    "                print('\\n Exiting program...')\n",
    "                break\n",
    "        else:\n",
    "            print('\\n Exiting program...')\n",
    "            break\n",
    "        \n",
    "main()"
   ]
  },
  {
   "cell_type": "code",
   "execution_count": 3,
   "id": "94b5cf86-2a35-4da9-b966-fa7a85ffee06",
   "metadata": {},
   "outputs": [],
   "source": [
    "#ABOUT ABOVE ERROR::\n",
    "# That’s Jupyter politely saying:\n",
    "\n",
    "# “Hey, I saw you tried to close the whole program, but this is an interactive environment — I’ll just stop your \n",
    "# code instead of shutting down the notebook.”\n",
    "\n",
    "# ✅ Meaning:\n",
    "# Your code worked correctly.\n",
    "# The sys.exit() stopped execution where it should.\n",
    "# You can ignore that warning safely — it’s just Jupyter being helpful."
   ]
  },
  {
   "cell_type": "code",
   "execution_count": null,
   "id": "290e327b-0173-4faf-867f-566273ea0beb",
   "metadata": {},
   "outputs": [],
   "source": []
  }
 ],
 "metadata": {
  "kernelspec": {
   "display_name": "Python 3 (ipykernel)",
   "language": "python",
   "name": "python3"
  },
  "language_info": {
   "codemirror_mode": {
    "name": "ipython",
    "version": 3
   },
   "file_extension": ".py",
   "mimetype": "text/x-python",
   "name": "python",
   "nbconvert_exporter": "python",
   "pygments_lexer": "ipython3",
   "version": "3.13.5"
  }
 },
 "nbformat": 4,
 "nbformat_minor": 5
}
