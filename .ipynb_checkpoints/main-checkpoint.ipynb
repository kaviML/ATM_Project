{
 "cells": [
  {
   "cell_type": "code",
   "execution_count": 1,
   "id": "4000cffc-7ef4-49fb-8ee0-1b8fb702fc7e",
   "metadata": {},
   "outputs": [
    {
     "name": "stdout",
     "output_type": "stream",
     "text": [
      "\t\t*** Welcome to your Bank! ***\n",
      "\n"
     ]
    },
    {
     "name": "stdin",
     "output_type": "stream",
     "text": [
      "Your name:  Arun Das\n",
      "Pin:  2580\n"
     ]
    },
    {
     "name": "stdout",
     "output_type": "stream",
     "text": [
      "Hey Arun Das, You are Logged in now...\n"
     ]
    },
    {
     "name": "stdin",
     "output_type": "stream",
     "text": [
      "\n",
      " Continue Banking? \n",
      "Enter Y/N:  y\n"
     ]
    },
    {
     "name": "stdout",
     "output_type": "stream",
     "text": [
      " ****** \n",
      " Welcome, Select Operation from below: \n",
      "1. Check Balance\n",
      "2. Withdraw\n",
      "3. Deposite\n",
      "4. Transfer\n",
      "5. Check Details\n",
      "6. Exit\n"
     ]
    },
    {
     "name": "stdin",
     "output_type": "stream",
     "text": [
      "\n",
      " Your choice:  1\n"
     ]
    },
    {
     "name": "stdout",
     "output_type": "stream",
     "text": [
      "Your Balance: 900\n"
     ]
    },
    {
     "name": "stdin",
     "output_type": "stream",
     "text": [
      "\n",
      " Continue Banking? \n",
      "Enter Y/N:  n\n"
     ]
    },
    {
     "name": "stdout",
     "output_type": "stream",
     "text": [
      "\n",
      " Exiting program...\n"
     ]
    }
   ],
   "source": [
    "existingusers = {\n",
    "    101:{'name':'Asha Ramesh' ,'gender':'F' ,'account no.':'1234567890123450', 'pin':'4321', 'city': 'Hydrabad', 'Saving': 2500},\n",
    "    102:{'name':'Manoj Kumar','gender':'M','account no.':'9876543210987650', 'pin':'2468', 'city':'Jaipur' , 'Saving': 8000},\n",
    "    103:{'name':'Sneha Raj','gender':'F','account no.':'2222333344445550', 'pin':'1357', 'city':'Bhopal' , 'Saving': 12000},\n",
    "    104:{'name':'Ravi Sharma' ,'gender':'M' ,'account no.':'4444555566667770', 'pin':'8642' , 'city':'Dehradun', 'Saving': 6700},\n",
    "    105:{'name':'Arun Das','gender':'M','account no.':'6666777788889990', 'pin':'2580', 'city':'Kolkata', 'Saving': 900}\n",
    "    }\n",
    "\n",
    "##IMPORTANT::\n",
    "# Why account_no and pin should be strings (not integers)\n",
    "# 🧩 1. Leading zeros matter --\n",
    "# If an account number or PIN starts with a 0, integers will drop those zeros automatically.\n",
    "\n",
    "# 2. They’re identifiers, not quantities --\n",
    "# An account number or PIN isn’t something you’ll add, subtract, or multiply.\n",
    "# They’re IDs, like your Aadhaar number or phone number — which should stay fixed as text.\n",
    "\n",
    "# 3. Avoids integer size issues\n",
    "# Some banks use 14–16 digit account numbers.\n",
    "# Python handles large integers fine, but other systems (like Excel or databases) can round off or distort them if stored as numbers.\n",
    "\n",
    "#---\n",
    "#Menu for banking operations\n",
    "\n",
    "def showmenu():\n",
    "    print(' ****** \\n Welcome, Select Operation from below: ')\n",
    "    menu = {1:'Check Balance',2:'Withdraw',3:'Deposite',4:'Transfer', 5:'Check Details',6:'Exit'}\n",
    "    for key,value in menu.items():  #to get all key and value pair together we use .items() method\n",
    "        print(f'{key}. {value}')\n",
    "\n",
    "    option = int(input('\\n Your choice: '))\n",
    "    return option\n",
    "    \n",
    "\n",
    "#---\n",
    "##VERIFY/Authenticate user:\n",
    "\n",
    "def authuser(): #No parameters need since we are assigning the entered values via userinput function made above\n",
    "    entername = input('Your name: ')\n",
    "    enterpin = input('Pin: ')\n",
    "    validuser = False\n",
    "\n",
    "    for uid, credential in existingusers.items(): #this ensure the details are compared with right credentials, its important \n",
    "                                                  #to consider key for verification along with its corresponding details\n",
    "        #now to compare credentials of user\n",
    "        if credential['name'] == entername  and credential['pin'] == enterpin :\n",
    "            validuser = True\n",
    "            print(f'Hey {entername}, You are Logged in now...')\n",
    "            validuser = uid\n",
    "            break\n",
    "        #else:\n",
    "            #print('Incorrect details! Try again...') ;; this code line will iterate and check for each entry which is not right due to\n",
    "            #privacy and optimization concerns. Right place to write this code is shown below!!\n",
    "    \n",
    "    if validuser:\n",
    "        return validuser       #if you wanna get value/access this anywhere in code for Verification and process\n",
    "        # option = showmenu()          #this will show the menu as well as store the input from user in variable 'option'\n",
    "        #                              #to get/access this value anywhere in code\n",
    "        # operation(validuser,option)       \n",
    "    else:\n",
    "        print('\\nIncorrect details! Try again...')\n",
    "        \n",
    "# ---            \n",
    "\n",
    "def operation(uid,option):\n",
    "    if option == 1:\n",
    "        print(f\"Your Balance: {existingusers[uid]['Saving']}\")\n",
    "    elif option == 2:\n",
    "        withdraw(uid)\n",
    "    elif option == 3:\n",
    "        deposit(uid)\n",
    "    elif option == 4:\n",
    "        transfer(uid)\n",
    "    elif option == 5:\n",
    "        showdetails(uid)\n",
    "    else:\n",
    "        #operation.quit()  #to exit of end the code there is no function like this, use exit() instead\n",
    "        exit()\n",
    "#---\n",
    "def withdraw(uid):\n",
    "    outamount = int(input('Enter withdrawl amount: '))\n",
    "    totalamount = existingusers[uid]['Saving']\n",
    "    remainingamount = totalamount - outamount\n",
    "    existingusers[uid]['Saving'] = remainingamount\n",
    "    print(f'\\nAvailable Balance after withdrawl: {remainingamount}')\n",
    "\n",
    "def deposit(uid):\n",
    "    inamount = int(input('Enter deposit amount: '))\n",
    "    totalamount = existingusers[uid]['Saving']\n",
    "    updatedtotal = totalamount + inamount\n",
    "    existingusers[uid]['Saving'] = updatedtotal\n",
    "    print(f'\\nAvailable Balance after withdrawl: {updatedtotal}')\n",
    "\n",
    "def transfer(uid):\n",
    "    sendamount = int(input('\\nEnter amount to transfer: '))\n",
    "    totalamount = existingusers[uid]['Saving']\n",
    "    leftamount = totalamount - sendamount\n",
    "    reciever = input('Enter the name of reciever: ')\n",
    "    moneysent = False\n",
    "    #for uid, credentials in existingusers.items():  ##here uid is conflicting with the transfering users uid, so rename it to rid etc\n",
    "    for rid, credentials in existingusers.items():\n",
    "        if credentials['name'] == reciever:\n",
    "            existingusers[rid]['Saving'] = existingusers[rid]['Saving'] + sendamount\n",
    "            moneysent = True\n",
    "        \n",
    "    if moneysent:\n",
    "        existingusers[uid]['Saving'] = leftamount\n",
    "        \n",
    "        print(f'\\nMoney Transfered... Remaing Balance is: {leftamount} \\n Thank you!')\n",
    "    else:\n",
    "        print('Transfer failed! Receiver not found.')\n",
    "\n",
    "\n",
    "def showdetails(uid):\n",
    "    print(' *** Your Account Details are: ***')\n",
    "    for key, details in existingusers[uid].items():\n",
    "        print(key,':',details)\n",
    "\n",
    "\n",
    "def main():\n",
    "    print('\\t\\t*** Welcome to your Bank! ***\\n')\n",
    "    uid = authuser()\n",
    "    # operation(uid,option)\n",
    "    if not uid:\n",
    "            return\n",
    "        \n",
    "    while True:    \n",
    "        continuebanking = input(\"\\n Continue Banking? \\nEnter Y/N: \")\n",
    "        continuebanking = continuebanking.strip().replace(' ','')\n",
    "        if continuebanking.lower() == 'y':\n",
    "            option = showmenu()\n",
    "            operation(uid, option)\n",
    "            if option == 6:\n",
    "                print('\\n Exiting program...')\n",
    "                break\n",
    "        else:\n",
    "            print('\\n Exiting program...')\n",
    "            break\n",
    "    # if continuebanking.lower() == 'y':\n",
    "    #     showmenu()    \n",
    "    #     while option != 6:\n",
    "    #         option = operation()\n",
    "    #     if option == 6:\n",
    "    #         print('\\n Exiting program... \\n Have a nice day!')\n",
    "    # else:\n",
    "    #     print('\\n Exiting program...')\n",
    "        \n",
    "main()"
   ]
  },
  {
   "cell_type": "code",
   "execution_count": null,
   "id": "61d88898-ac4a-4782-8cdf-131bb2c6ec37",
   "metadata": {},
   "outputs": [],
   "source": []
  },
  {
   "cell_type": "code",
   "execution_count": null,
   "id": "13a13fb2-2d8d-4e52-bbfc-9ff31c9560b9",
   "metadata": {},
   "outputs": [],
   "source": []
  },
  {
   "cell_type": "code",
   "execution_count": null,
   "id": "94b5cf86-2a35-4da9-b966-fa7a85ffee06",
   "metadata": {},
   "outputs": [],
   "source": []
  },
  {
   "cell_type": "code",
   "execution_count": null,
   "id": "0662898f-14f8-4542-bc79-7d401b0c10d8",
   "metadata": {},
   "outputs": [],
   "source": []
  },
  {
   "cell_type": "code",
   "execution_count": null,
   "id": "5fcfb912-3b68-4d7f-ad89-0b61b4dc0098",
   "metadata": {},
   "outputs": [],
   "source": []
  },
  {
   "cell_type": "code",
   "execution_count": null,
   "id": "18909c26-335e-4f84-bdcb-9ed9c867639f",
   "metadata": {},
   "outputs": [],
   "source": []
  }
 ],
 "metadata": {
  "kernelspec": {
   "display_name": "Python 3 (ipykernel)",
   "language": "python",
   "name": "python3"
  },
  "language_info": {
   "codemirror_mode": {
    "name": "ipython",
    "version": 3
   },
   "file_extension": ".py",
   "mimetype": "text/x-python",
   "name": "python",
   "nbconvert_exporter": "python",
   "pygments_lexer": "ipython3",
   "version": "3.13.5"
  }
 },
 "nbformat": 4,
 "nbformat_minor": 5
}
