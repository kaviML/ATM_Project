{
 "cells": [
  {
   "cell_type": "code",
   "execution_count": null,
   "id": "4e609b86-64ec-41a4-9038-70ea6d35def6",
   "metadata": {},
   "outputs": [],
   "source": []
  }
 ],
 "metadata": {
  "kernelspec": {
   "display_name": "",
   "name": ""
  },
  "language_info": {
   "name": ""
  }
 },
 "nbformat": 4,
 "nbformat_minor": 5
}
